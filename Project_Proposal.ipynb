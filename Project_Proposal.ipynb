{
 "cells": [
  {
   "cell_type": "markdown",
   "id": "ce27c133-5fc8-4932-87eb-01cae12436c5",
   "metadata": {},
   "source": [
    "# Project Proposal"
   ]
  },
  {
   "cell_type": "code",
   "execution_count": 17,
   "id": "cbb032c8-68ce-49c1-aa0a-7935dfc10277",
   "metadata": {},
   "outputs": [],
   "source": [
    "library(tidyverse)\n",
    "library(repr)\n",
    "library(infer)\n",
    "library(cowplot)\n",
    "library(broom)"
   ]
  },
  {
   "cell_type": "markdown",
   "id": "40aee070-f7e5-4e6a-852c-0fadc829b8b7",
   "metadata": {},
   "source": [
    "## 2 Preliminary Results"
   ]
  },
  {
   "cell_type": "markdown",
   "id": "3f4a0492-db66-46dc-b978-ab51f761e4bd",
   "metadata": {},
   "source": [
    "### Cleaning and Wrangling of Data"
   ]
  },
  {
   "cell_type": "code",
   "execution_count": 18,
   "id": "70dfe157-b7df-4f23-a74f-9114efdc2d4b",
   "metadata": {},
   "outputs": [
    {
     "data": {
      "text/html": [
       "<table class=\"dataframe\">\n",
       "<caption>A data.frame: 6 × 15</caption>\n",
       "<thead>\n",
       "\t<tr><th></th><th scope=col>year</th><th scope=col>imdb</th><th scope=col>title</th><th scope=col>test</th><th scope=col>clean_test</th><th scope=col>binary</th><th scope=col>budget</th><th scope=col>domgross</th><th scope=col>intgross</th><th scope=col>code</th><th scope=col>budget_2013.</th><th scope=col>domgross_2013.</th><th scope=col>intgross_2013.</th><th scope=col>period.code</th><th scope=col>decade.code</th></tr>\n",
       "\t<tr><th></th><th scope=col>&lt;int&gt;</th><th scope=col>&lt;chr&gt;</th><th scope=col>&lt;chr&gt;</th><th scope=col>&lt;chr&gt;</th><th scope=col>&lt;chr&gt;</th><th scope=col>&lt;chr&gt;</th><th scope=col>&lt;int&gt;</th><th scope=col>&lt;chr&gt;</th><th scope=col>&lt;chr&gt;</th><th scope=col>&lt;chr&gt;</th><th scope=col>&lt;int&gt;</th><th scope=col>&lt;chr&gt;</th><th scope=col>&lt;chr&gt;</th><th scope=col>&lt;int&gt;</th><th scope=col>&lt;int&gt;</th></tr>\n",
       "</thead>\n",
       "<tbody>\n",
       "\t<tr><th scope=row>1</th><td>2013</td><td>tt1711425</td><td><span style=white-space:pre-wrap>21 &amp;amp; Over   </span></td><td><span style=white-space:pre-wrap>notalk         </span></td><td>notalk</td><td>FAIL</td><td> 13000000</td><td>25682380</td><td>42195766 </td><td>2013FAIL</td><td> 13000000</td><td>25682380</td><td>42195766 </td><td>1</td><td>1</td></tr>\n",
       "\t<tr><th scope=row>2</th><td>2012</td><td>tt1343727</td><td>Dredd 3D        </td><td>ok-disagree    </td><td>ok    </td><td>PASS</td><td> 45000000</td><td>13414714</td><td>40868994 </td><td>2012PASS</td><td> 45658735</td><td>13611086</td><td>41467257 </td><td>1</td><td>1</td></tr>\n",
       "\t<tr><th scope=row>3</th><td>2013</td><td>tt2024544</td><td>12 Years a Slave</td><td>notalk-disagree</td><td>notalk</td><td>FAIL</td><td> 20000000</td><td>53107035</td><td>158607035</td><td>2013FAIL</td><td> 20000000</td><td>53107035</td><td>158607035</td><td>1</td><td>1</td></tr>\n",
       "\t<tr><th scope=row>4</th><td>2013</td><td>tt1272878</td><td>2 Guns          </td><td>notalk         </td><td>notalk</td><td>FAIL</td><td> 61000000</td><td>75612460</td><td>132493015</td><td>2013FAIL</td><td> 61000000</td><td>75612460</td><td>132493015</td><td>1</td><td>1</td></tr>\n",
       "\t<tr><th scope=row>5</th><td>2013</td><td>tt0453562</td><td>42              </td><td>men            </td><td>men   </td><td>FAIL</td><td> 40000000</td><td>95020213</td><td>95020213 </td><td>2013FAIL</td><td> 40000000</td><td>95020213</td><td>95020213 </td><td>1</td><td>1</td></tr>\n",
       "\t<tr><th scope=row>6</th><td>2013</td><td>tt1335975</td><td>47 Ronin        </td><td>men            </td><td>men   </td><td>FAIL</td><td>225000000</td><td>38362475</td><td>145803842</td><td>2013FAIL</td><td>225000000</td><td>38362475</td><td>145803842</td><td>1</td><td>1</td></tr>\n",
       "</tbody>\n",
       "</table>\n"
      ],
      "text/latex": [
       "A data.frame: 6 × 15\n",
       "\\begin{tabular}{r|lllllllllllllll}\n",
       "  & year & imdb & title & test & clean\\_test & binary & budget & domgross & intgross & code & budget\\_2013. & domgross\\_2013. & intgross\\_2013. & period.code & decade.code\\\\\n",
       "  & <int> & <chr> & <chr> & <chr> & <chr> & <chr> & <int> & <chr> & <chr> & <chr> & <int> & <chr> & <chr> & <int> & <int>\\\\\n",
       "\\hline\n",
       "\t1 & 2013 & tt1711425 & 21 \\&amp; Over    & notalk          & notalk & FAIL &  13000000 & 25682380 & 42195766  & 2013FAIL &  13000000 & 25682380 & 42195766  & 1 & 1\\\\\n",
       "\t2 & 2012 & tt1343727 & Dredd 3D         & ok-disagree     & ok     & PASS &  45000000 & 13414714 & 40868994  & 2012PASS &  45658735 & 13611086 & 41467257  & 1 & 1\\\\\n",
       "\t3 & 2013 & tt2024544 & 12 Years a Slave & notalk-disagree & notalk & FAIL &  20000000 & 53107035 & 158607035 & 2013FAIL &  20000000 & 53107035 & 158607035 & 1 & 1\\\\\n",
       "\t4 & 2013 & tt1272878 & 2 Guns           & notalk          & notalk & FAIL &  61000000 & 75612460 & 132493015 & 2013FAIL &  61000000 & 75612460 & 132493015 & 1 & 1\\\\\n",
       "\t5 & 2013 & tt0453562 & 42               & men             & men    & FAIL &  40000000 & 95020213 & 95020213  & 2013FAIL &  40000000 & 95020213 & 95020213  & 1 & 1\\\\\n",
       "\t6 & 2013 & tt1335975 & 47 Ronin         & men             & men    & FAIL & 225000000 & 38362475 & 145803842 & 2013FAIL & 225000000 & 38362475 & 145803842 & 1 & 1\\\\\n",
       "\\end{tabular}\n"
      ],
      "text/markdown": [
       "\n",
       "A data.frame: 6 × 15\n",
       "\n",
       "| <!--/--> | year &lt;int&gt; | imdb &lt;chr&gt; | title &lt;chr&gt; | test &lt;chr&gt; | clean_test &lt;chr&gt; | binary &lt;chr&gt; | budget &lt;int&gt; | domgross &lt;chr&gt; | intgross &lt;chr&gt; | code &lt;chr&gt; | budget_2013. &lt;int&gt; | domgross_2013. &lt;chr&gt; | intgross_2013. &lt;chr&gt; | period.code &lt;int&gt; | decade.code &lt;int&gt; |\n",
       "|---|---|---|---|---|---|---|---|---|---|---|---|---|---|---|---|\n",
       "| 1 | 2013 | tt1711425 | 21 &amp;amp; Over    | notalk          | notalk | FAIL |  13000000 | 25682380 | 42195766  | 2013FAIL |  13000000 | 25682380 | 42195766  | 1 | 1 |\n",
       "| 2 | 2012 | tt1343727 | Dredd 3D         | ok-disagree     | ok     | PASS |  45000000 | 13414714 | 40868994  | 2012PASS |  45658735 | 13611086 | 41467257  | 1 | 1 |\n",
       "| 3 | 2013 | tt2024544 | 12 Years a Slave | notalk-disagree | notalk | FAIL |  20000000 | 53107035 | 158607035 | 2013FAIL |  20000000 | 53107035 | 158607035 | 1 | 1 |\n",
       "| 4 | 2013 | tt1272878 | 2 Guns           | notalk          | notalk | FAIL |  61000000 | 75612460 | 132493015 | 2013FAIL |  61000000 | 75612460 | 132493015 | 1 | 1 |\n",
       "| 5 | 2013 | tt0453562 | 42               | men             | men    | FAIL |  40000000 | 95020213 | 95020213  | 2013FAIL |  40000000 | 95020213 | 95020213  | 1 | 1 |\n",
       "| 6 | 2013 | tt1335975 | 47 Ronin         | men             | men    | FAIL | 225000000 | 38362475 | 145803842 | 2013FAIL | 225000000 | 38362475 | 145803842 | 1 | 1 |\n",
       "\n"
      ],
      "text/plain": [
       "  year imdb      title            test            clean_test binary budget   \n",
       "1 2013 tt1711425 21 &amp; Over    notalk          notalk     FAIL    13000000\n",
       "2 2012 tt1343727 Dredd 3D         ok-disagree     ok         PASS    45000000\n",
       "3 2013 tt2024544 12 Years a Slave notalk-disagree notalk     FAIL    20000000\n",
       "4 2013 tt1272878 2 Guns           notalk          notalk     FAIL    61000000\n",
       "5 2013 tt0453562 42               men             men        FAIL    40000000\n",
       "6 2013 tt1335975 47 Ronin         men             men        FAIL   225000000\n",
       "  domgross intgross  code     budget_2013. domgross_2013. intgross_2013.\n",
       "1 25682380 42195766  2013FAIL  13000000    25682380       42195766      \n",
       "2 13414714 40868994  2012PASS  45658735    13611086       41467257      \n",
       "3 53107035 158607035 2013FAIL  20000000    53107035       158607035     \n",
       "4 75612460 132493015 2013FAIL  61000000    75612460       132493015     \n",
       "5 95020213 95020213  2013FAIL  40000000    95020213       95020213      \n",
       "6 38362475 145803842 2013FAIL 225000000    38362475       145803842     \n",
       "  period.code decade.code\n",
       "1 1           1          \n",
       "2 1           1          \n",
       "3 1           1          \n",
       "4 1           1          \n",
       "5 1           1          \n",
       "6 1           1          "
      ]
     },
     "metadata": {},
     "output_type": "display_data"
    }
   ],
   "source": [
    "download.file(\"https://github.com/fivethirtyeight/data/raw/master/bechdel/movies.csv\", destfile = \"movies.csv\")\n",
    "movie_data <- read.csv(\"movies.csv\")\n",
    "head(movie_data)"
   ]
  },
  {
   "cell_type": "code",
   "execution_count": null,
   "id": "1125fcab-9030-48f6-a06e-63ecd08f3af1",
   "metadata": {},
   "outputs": [],
   "source": []
  }
 ],
 "metadata": {
  "kernelspec": {
   "display_name": "R",
   "language": "R",
   "name": "ir"
  },
  "language_info": {
   "codemirror_mode": "r",
   "file_extension": ".r",
   "mimetype": "text/x-r-source",
   "name": "R",
   "pygments_lexer": "r",
   "version": "4.1.3"
  }
 },
 "nbformat": 4,
 "nbformat_minor": 5
}
